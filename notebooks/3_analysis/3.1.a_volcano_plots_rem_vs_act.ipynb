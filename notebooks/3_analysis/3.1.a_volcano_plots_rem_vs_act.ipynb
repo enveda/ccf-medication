{
 "cells": [
  {
   "cell_type": "markdown",
   "metadata": {},
   "source": [
    "# Volcano plots for transcriptomics and proteomics\n",
    "\n",
    "This notebook loads the aggregated mixed-effects results and generates volcano plots for each subpopulation combination and drug family.\n"
   ]
  },
  {
   "cell_type": "code",
   "execution_count": 1,
   "metadata": {},
   "outputs": [],
   "source": [
    "# Imports\n",
    "import os\n",
    "import pandas as pd\n",
    "import seaborn as sns\n",
    "\n",
    "# Specific imports from ccf_medication modules\n",
    "from ccf_medication.utils.loading import (\n",
    "    load_aggregated_results,\n",
    ")\n",
    "from ccf_medication.plotting.volcano import (\n",
    "    plot_volcano_plots_with_labels,\n",
    ")\n",
    "\n",
    "# Constants\n",
    "from ccf_medication.constants.pathing import (\n",
    "    RESULTS_DIR,\n",
    "    AGG_REM_VS_ACT_TX_RESULTS_PATH,\n",
    "    AGG_REM_VS_ACT_PX_RESULTS_PATH,\n",
    ")\n",
    "from ccf_medication.constants.thresholds import (\n",
    "    ADJ_PVAL_THRESH,\n",
    "    TX_FC_THRESH,\n",
    "    ADJ_PVAL_THRESH,\n",
    "    PX_FC_THRESH,\n",
    ")\n",
    "\n",
    "# Pretty Dataframes\n",
    "sns.set(style=\"whitegrid\")\n",
    "pd.options.mode.chained_assignment = None\n"
   ]
  },
  {
   "cell_type": "code",
   "execution_count": 2,
   "metadata": {},
   "outputs": [
    {
     "name": "stdout",
     "output_type": "stream",
     "text": [
      "Loading aggregated results...\n",
      "Transcriptomics rows: 357126\n",
      "Proteomics rows: 29390\n"
     ]
    }
   ],
   "source": [
    "# Load aggregated results\n",
    "print(\"Loading aggregated results...\")\n",
    "\n",
    "tx_rem_vs_act_results = load_aggregated_results(AGG_REM_VS_ACT_TX_RESULTS_PATH)\n",
    "px_rem_vs_act_results = load_aggregated_results(AGG_REM_VS_ACT_PX_RESULTS_PATH)\n",
    "\n",
    "print(\"Transcriptomics rows:\", len(tx_rem_vs_act_results))\n",
    "print(\"Proteomics rows:\", len(px_rem_vs_act_results))\n"
   ]
  },
  {
   "cell_type": "code",
   "execution_count": 3,
   "metadata": {},
   "outputs": [
    {
     "data": {
      "text/plain": [
       "'/home/timothy.hart/ccf-medication/data/results/volcano_plots_rem_vs_act'"
      ]
     },
     "execution_count": 3,
     "metadata": {},
     "output_type": "execute_result"
    }
   ],
   "source": [
    "# Output directories\n",
    "VOLCANO_DIR = os.path.join(RESULTS_DIR, \"volcano_plots_rem_vs_act\")\n",
    "os.makedirs(VOLCANO_DIR, exist_ok=True)\n",
    "\n",
    "VOLCANO_TX_DIR = os.path.join(VOLCANO_DIR, \"transcriptomics\")\n",
    "VOLCANO_PX_DIR = os.path.join(VOLCANO_DIR, \"proteomics\")\n",
    "\n",
    "for d in [VOLCANO_TX_DIR, VOLCANO_PX_DIR]:\n",
    "    os.makedirs(d, exist_ok=True)\n",
    "\n",
    "VOLCANO_DIR\n"
   ]
  },
  {
   "cell_type": "code",
   "execution_count": 4,
   "metadata": {},
   "outputs": [
    {
     "name": "stdout",
     "output_type": "stream",
     "text": [
      "Plotting Transcriptomics volcano plots...\n",
      "Done: Transcriptomics\n"
     ]
    }
   ],
   "source": [
    "# Volcano plots: Transcriptomics (static PNG)\n",
    "print(\"Plotting Transcriptomics volcano plots...\")\n",
    "\n",
    "plot_volcano_plots_with_labels(\n",
    "    results_df=tx_rem_vs_act_results,\n",
    "    subpop_cols=[\"diagnosis\", \"simple_tissue\"],\n",
    "    drug_family_col=\"drug_family\",\n",
    "    feature_col=\"feature\",\n",
    "    p_value_col=\"adjusted_p_value\",\n",
    "    p_value_threshold=ADJ_PVAL_THRESH,\n",
    "    fold_change_threshold=TX_FC_THRESH,\n",
    "    output_path=VOLCANO_DIR,\n",
    "    sub_dir_levels=[\"transcriptomics\"],\n",
    "    file_suffix=\"volcano\",\n",
    "    interactive=False,\n",
    ")\n",
    "\n",
    "print(\"Done: Transcriptomics\")\n"
   ]
  },
  {
   "cell_type": "code",
   "execution_count": 5,
   "metadata": {},
   "outputs": [
    {
     "name": "stdout",
     "output_type": "stream",
     "text": [
      "Plotting Proteomics volcano plots...\n",
      "Done: Proteomics\n"
     ]
    }
   ],
   "source": [
    "# Volcano plots: Proteomics (static PNG)\n",
    "print(\"Plotting Proteomics volcano plots...\")\n",
    "\n",
    "plot_volcano_plots_with_labels(\n",
    "    results_df=px_rem_vs_act_results,\n",
    "    subpop_cols=[\"diagnosis\"],\n",
    "    drug_family_col=\"drug_family\",\n",
    "    feature_col=\"feature\",\n",
    "    p_value_col=\"adjusted_p_value\",\n",
    "    p_value_threshold=ADJ_PVAL_THRESH,\n",
    "    fold_change_threshold=PX_FC_THRESH,\n",
    "    output_path=VOLCANO_DIR,\n",
    "    sub_dir_levels=[\"proteomics\"],\n",
    "    file_suffix=\"volcano\",\n",
    "    interactive=False,\n",
    ")\n",
    "\n",
    "print(\"Done: Proteomics\")\n"
   ]
  }
 ],
 "metadata": {
  "kernelspec": {
   "display_name": ".venv",
   "language": "python",
   "name": "python3"
  },
  "language_info": {
   "codemirror_mode": {
    "name": "ipython",
    "version": 3
   },
   "file_extension": ".py",
   "mimetype": "text/x-python",
   "name": "python",
   "nbconvert_exporter": "python",
   "pygments_lexer": "ipython3",
   "version": "3.10.18"
  }
 },
 "nbformat": 4,
 "nbformat_minor": 2
}
