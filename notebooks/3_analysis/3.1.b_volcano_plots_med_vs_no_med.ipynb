{
 "cells": [
  {
   "cell_type": "markdown",
   "metadata": {},
   "source": [
    "# Volcano plots for transcriptomics and proteomics\n",
    "\n",
    "This notebook loads the aggregated mixed-effects results and generates volcano plots for each subpopulation combination and drug family.\n"
   ]
  },
  {
   "cell_type": "code",
   "execution_count": 1,
   "metadata": {},
   "outputs": [],
   "source": [
    "# Imports\n",
    "import os\n",
    "import pandas as pd\n",
    "import seaborn as sns\n",
    "\n",
    "# Specific imports from ccf_medication modules\n",
    "from ccf_medication.utils.loading import (\n",
    "    load_aggregated_results,\n",
    ")\n",
    "from ccf_medication.plotting.volcano import (\n",
    "    plot_volcano_plots_with_labels,\n",
    ")\n",
    "\n",
    "# Constants\n",
    "from ccf_medication.constants.pathing import (\n",
    "    RESULTS_DIR,\n",
    "    AGG_MED_VS_NO_MED_TX_RESULTS_PATH,\n",
    "    AGG_MED_VS_NO_MED_PX_RESULTS_PATH,\n",
    ")\n",
    "from ccf_medication.constants.thresholds import (\n",
    "    ADJ_PVAL_THRESH,\n",
    "    TX_FC_THRESH,\n",
    "    PX_FC_THRESH,\n",
    ")\n",
    "\n",
    "# Pretty Dataframes\n",
    "sns.set(style=\"whitegrid\")\n",
    "pd.options.mode.chained_assignment = None\n"
   ]
  },
  {
   "cell_type": "code",
   "execution_count": 2,
   "metadata": {},
   "outputs": [
    {
     "name": "stdout",
     "output_type": "stream",
     "text": [
      "Loading aggregated results...\n"
     ]
    },
    {
     "data": {
      "text/html": [
       "<div>\n",
       "<style scoped>\n",
       "    .dataframe tbody tr th:only-of-type {\n",
       "        vertical-align: middle;\n",
       "    }\n",
       "\n",
       "    .dataframe tbody tr th {\n",
       "        vertical-align: top;\n",
       "    }\n",
       "\n",
       "    .dataframe thead th {\n",
       "        text-align: right;\n",
       "    }\n",
       "</style>\n",
       "<table border=\"1\" class=\"dataframe\">\n",
       "  <thead>\n",
       "    <tr style=\"text-align: right;\">\n",
       "      <th></th>\n",
       "      <th>feature</th>\n",
       "      <th>coefficient</th>\n",
       "      <th>standard_error</th>\n",
       "      <th>p_value</th>\n",
       "      <th>adjusted_p_value</th>\n",
       "      <th>diagnosis</th>\n",
       "      <th>simple_tissue</th>\n",
       "      <th>drug_family</th>\n",
       "      <th>n_patients_in_no_med_group</th>\n",
       "      <th>n_samples_in_no_med_group</th>\n",
       "      <th>n_patients_in_med_group</th>\n",
       "      <th>n_samples_in_med_group</th>\n",
       "    </tr>\n",
       "  </thead>\n",
       "  <tbody>\n",
       "    <tr>\n",
       "      <th>0</th>\n",
       "      <td>BSN</td>\n",
       "      <td>0.355589</td>\n",
       "      <td>0.207545</td>\n",
       "      <td>0.086656</td>\n",
       "      <td>0.161351</td>\n",
       "      <td>cd</td>\n",
       "      <td>colon</td>\n",
       "      <td>Aminosalicylates (5-ASA drugs)</td>\n",
       "      <td>84</td>\n",
       "      <td>86</td>\n",
       "      <td>22.0</td>\n",
       "      <td>27.0</td>\n",
       "    </tr>\n",
       "    <tr>\n",
       "      <th>1</th>\n",
       "      <td>ASCL2</td>\n",
       "      <td>0.328948</td>\n",
       "      <td>0.199420</td>\n",
       "      <td>0.099041</td>\n",
       "      <td>0.174009</td>\n",
       "      <td>cd</td>\n",
       "      <td>colon</td>\n",
       "      <td>Aminosalicylates (5-ASA drugs)</td>\n",
       "      <td>84</td>\n",
       "      <td>86</td>\n",
       "      <td>22.0</td>\n",
       "      <td>27.0</td>\n",
       "    </tr>\n",
       "    <tr>\n",
       "      <th>2</th>\n",
       "      <td>PNPLA7</td>\n",
       "      <td>0.304102</td>\n",
       "      <td>0.167092</td>\n",
       "      <td>0.068765</td>\n",
       "      <td>0.142782</td>\n",
       "      <td>cd</td>\n",
       "      <td>colon</td>\n",
       "      <td>Aminosalicylates (5-ASA drugs)</td>\n",
       "      <td>84</td>\n",
       "      <td>86</td>\n",
       "      <td>22.0</td>\n",
       "      <td>27.0</td>\n",
       "    </tr>\n",
       "    <tr>\n",
       "      <th>3</th>\n",
       "      <td>MAP4K3_DT</td>\n",
       "      <td>0.231115</td>\n",
       "      <td>0.112243</td>\n",
       "      <td>0.039489</td>\n",
       "      <td>0.109464</td>\n",
       "      <td>cd</td>\n",
       "      <td>colon</td>\n",
       "      <td>Aminosalicylates (5-ASA drugs)</td>\n",
       "      <td>84</td>\n",
       "      <td>86</td>\n",
       "      <td>22.0</td>\n",
       "      <td>27.0</td>\n",
       "    </tr>\n",
       "    <tr>\n",
       "      <th>4</th>\n",
       "      <td>MYH14</td>\n",
       "      <td>0.379483</td>\n",
       "      <td>0.149637</td>\n",
       "      <td>0.011212</td>\n",
       "      <td>0.075507</td>\n",
       "      <td>cd</td>\n",
       "      <td>colon</td>\n",
       "      <td>Aminosalicylates (5-ASA drugs)</td>\n",
       "      <td>84</td>\n",
       "      <td>86</td>\n",
       "      <td>22.0</td>\n",
       "      <td>27.0</td>\n",
       "    </tr>\n",
       "  </tbody>\n",
       "</table>\n",
       "</div>"
      ],
      "text/plain": [
       "     feature  coefficient  standard_error   p_value  adjusted_p_value  \\\n",
       "0        BSN     0.355589        0.207545  0.086656          0.161351   \n",
       "1      ASCL2     0.328948        0.199420  0.099041          0.174009   \n",
       "2     PNPLA7     0.304102        0.167092  0.068765          0.142782   \n",
       "3  MAP4K3_DT     0.231115        0.112243  0.039489          0.109464   \n",
       "4      MYH14     0.379483        0.149637  0.011212          0.075507   \n",
       "\n",
       "  diagnosis simple_tissue                     drug_family  \\\n",
       "0        cd         colon  Aminosalicylates (5-ASA drugs)   \n",
       "1        cd         colon  Aminosalicylates (5-ASA drugs)   \n",
       "2        cd         colon  Aminosalicylates (5-ASA drugs)   \n",
       "3        cd         colon  Aminosalicylates (5-ASA drugs)   \n",
       "4        cd         colon  Aminosalicylates (5-ASA drugs)   \n",
       "\n",
       "   n_patients_in_no_med_group  n_samples_in_no_med_group  \\\n",
       "0                          84                         86   \n",
       "1                          84                         86   \n",
       "2                          84                         86   \n",
       "3                          84                         86   \n",
       "4                          84                         86   \n",
       "\n",
       "   n_patients_in_med_group  n_samples_in_med_group  \n",
       "0                     22.0                    27.0  \n",
       "1                     22.0                    27.0  \n",
       "2                     22.0                    27.0  \n",
       "3                     22.0                    27.0  \n",
       "4                     22.0                    27.0  "
      ]
     },
     "metadata": {},
     "output_type": "display_data"
    },
    {
     "name": "stdout",
     "output_type": "stream",
     "text": [
      "Transcriptomics rows: 308427\n",
      "Proteomics rows: 23512\n"
     ]
    }
   ],
   "source": [
    "# Load aggregated results\n",
    "print(\"Loading aggregated results...\")\n",
    "\n",
    "tx_med_vs_no_med_results = load_aggregated_results(AGG_MED_VS_NO_MED_TX_RESULTS_PATH)\n",
    "px_med_vs_no_med_results = load_aggregated_results(AGG_MED_VS_NO_MED_PX_RESULTS_PATH)\n",
    "\n",
    "display(tx_med_vs_no_med_results.head())\n",
    "\n",
    "print(\"Transcriptomics rows:\", len(tx_med_vs_no_med_results))\n",
    "print(\"Proteomics rows:\", len(px_med_vs_no_med_results))\n"
   ]
  },
  {
   "cell_type": "code",
   "execution_count": 3,
   "metadata": {},
   "outputs": [
    {
     "data": {
      "text/plain": [
       "'/home/timothy.hart/ccf-medication/data/results/volcano_plots_med_vs_no_med'"
      ]
     },
     "execution_count": 3,
     "metadata": {},
     "output_type": "execute_result"
    }
   ],
   "source": [
    "# Output directories\n",
    "VOLCANO_DIR = os.path.join(RESULTS_DIR, \"volcano_plots_med_vs_no_med\")\n",
    "os.makedirs(VOLCANO_DIR, exist_ok=True)\n",
    "\n",
    "VOLCANO_TX_DIR = os.path.join(VOLCANO_DIR, \"transcriptomics\")\n",
    "VOLCANO_PX_DIR = os.path.join(VOLCANO_DIR, \"proteomics\")\n",
    "\n",
    "for d in [VOLCANO_TX_DIR, VOLCANO_PX_DIR]:\n",
    "    os.makedirs(d, exist_ok=True)\n",
    "\n",
    "VOLCANO_DIR\n"
   ]
  },
  {
   "cell_type": "code",
   "execution_count": 4,
   "metadata": {},
   "outputs": [
    {
     "name": "stdout",
     "output_type": "stream",
     "text": [
      "Plotting Transcriptomics volcano plots...\n",
      "Done: Transcriptomics\n"
     ]
    }
   ],
   "source": [
    "# Volcano plots: Transcriptomics (static PNG)\n",
    "print(\"Plotting Transcriptomics volcano plots...\")\n",
    "\n",
    "plot_volcano_plots_with_labels(\n",
    "    results_df=tx_med_vs_no_med_results,\n",
    "    subpop_cols=[\"diagnosis\", \"simple_tissue\"],\n",
    "    drug_family_col=\"drug_family\",\n",
    "    feature_col=\"feature\",\n",
    "    p_value_col=\"adjusted_p_value\",\n",
    "    p_value_threshold=ADJ_PVAL_THRESH,\n",
    "    fold_change_threshold=TX_FC_THRESH,\n",
    "    output_path=VOLCANO_DIR,\n",
    "    sub_dir_levels=[\"transcriptomics\"],\n",
    "    file_suffix=\"volcano\",\n",
    "    interactive=False,\n",
    ")\n",
    "\n",
    "print(\"Done: Transcriptomics\")\n"
   ]
  },
  {
   "cell_type": "code",
   "execution_count": 5,
   "metadata": {},
   "outputs": [
    {
     "name": "stdout",
     "output_type": "stream",
     "text": [
      "Plotting Proteomics volcano plots...\n",
      "Done: Proteomics\n"
     ]
    }
   ],
   "source": [
    "# Volcano plots: Proteomics (static PNG)\n",
    "print(\"Plotting Proteomics volcano plots...\")\n",
    "\n",
    "plot_volcano_plots_with_labels(\n",
    "    results_df=px_med_vs_no_med_results,\n",
    "    subpop_cols=[\"diagnosis\"],\n",
    "    drug_family_col=\"drug_family\",\n",
    "    feature_col=\"feature\",\n",
    "    p_value_col='adjusted_p_value',\n",
    "    p_value_threshold=ADJ_PVAL_THRESH,\n",
    "    fold_change_threshold=PX_FC_THRESH,\n",
    "    output_path=VOLCANO_DIR,\n",
    "    sub_dir_levels=[\"proteomics\"],\n",
    "    file_suffix=\"volcano\",\n",
    "    interactive=False,\n",
    ")\n",
    "\n",
    "print(\"Done: Proteomics\")\n"
   ]
  },
  {
   "cell_type": "code",
   "execution_count": null,
   "metadata": {},
   "outputs": [],
   "source": []
  }
 ],
 "metadata": {
  "kernelspec": {
   "display_name": ".venv",
   "language": "python",
   "name": "python3"
  },
  "language_info": {
   "codemirror_mode": {
    "name": "ipython",
    "version": 3
   },
   "file_extension": ".py",
   "mimetype": "text/x-python",
   "name": "python",
   "nbconvert_exporter": "python",
   "pygments_lexer": "ipython3",
   "version": "3.10.18"
  }
 },
 "nbformat": 4,
 "nbformat_minor": 2
}
