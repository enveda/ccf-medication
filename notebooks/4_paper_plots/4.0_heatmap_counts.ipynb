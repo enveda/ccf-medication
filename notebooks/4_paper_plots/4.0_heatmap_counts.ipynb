{
 "cells": [
  {
   "cell_type": "code",
   "execution_count": 11,
   "id": "87e594e9",
   "metadata": {},
   "outputs": [],
   "source": [
    "# Imports\n",
    "import numpy as np\n",
    "import pandas as pd\n",
    "import os\n",
    "\n",
    "from matplotlib.colors import LinearSegmentedColormap, Normalize\n",
    "\n",
    "# Specific imports from ccf_medication modules\n",
    "from ccf_medication.plotting.heatmaps import render_grid\n",
    "\n",
    "# Constants\n",
    "from ccf_medication.constants.pathing import (\n",
    "    ACTIVE_PATIENT_TABLE_PATH,\n",
    "    REMISSION_PATIENT_TABLE_PATH,\n",
    "    MED_VS_NO_MED_SIGNIF_TABLE_PATH,\n",
    "    RESULTS_DIR,\n",
    "    REM_VS_ACT_SIGNIF_TABLE_PATH,\n",
    "    RESPONSE_TABLE_PATH,\n",
    ")\n",
    "\n",
    "from ccf_medication.constants.thresholds import (\n",
    "    MIN_PATIENTS_PER_DRUG_FAMILY,\n",
    "    MIN_PATIENTS_PER_SEVERITY_GROUP,\n",
    "    MIN_PATIENTS_PER_SEVERITY_GROUP,\n",
    ")\n",
    "\n",
    "from ccf_medication.constants.plotting import (\n",
    "    BASE_COLOR,\n",
    "    REMISSION_COLOR,\n",
    "    ACTIVE_COLOR,\n",
    "    PLOTTING_DRUG_FAMILIES_MAP,\n",
    ")\n",
    "\n"
   ]
  },
  {
   "cell_type": "code",
   "execution_count": 12,
   "id": "b679f074",
   "metadata": {},
   "outputs": [],
   "source": [
    "paper_results_dir = os.path.join(RESULTS_DIR, 'paper_plots')\n",
    "counts_path = os.path.join(paper_results_dir, 'count_heatmaps/')\n",
    "os.makedirs(counts_path, exist_ok=True)"
   ]
  },
  {
   "cell_type": "markdown",
   "id": "b2be28b1",
   "metadata": {},
   "source": [
    "# Universal Utils"
   ]
  },
  {
   "cell_type": "code",
   "execution_count": 13,
   "id": "35d4197e",
   "metadata": {},
   "outputs": [],
   "source": [
    "def table_universal_formatting(table, use_plotting_drug_families=True):\n",
    "\n",
    "    table = table.rename(columns={'all': ''}, level=2)\n",
    "\n",
    "    table = table.rename(columns={'small_intestine': 'Small Intestine'}, level=2)\n",
    "\n",
    "    table = table.rename(columns={'colon': 'Colon'}, level=2)\n",
    "\n",
    "    if use_plotting_drug_families == True:\n",
    "        table.index = table.index.map(PLOTTING_DRUG_FAMILIES_MAP)\n",
    "\n",
    "    if 'Calcineurin inhibitors' in table.index:\n",
    "        table.drop(index=['Calcineurin inhibitors'], inplace=True)\n",
    "\n",
    "\n",
    "    #alphabetize by drug family\n",
    "    table = table.sort_index(axis=0)\n",
    "\n",
    "    table = table.fillna(0)\n",
    "\n",
    "    return table\n",
    "\n",
    "def easy_render_heatmap(table, title, path, show_bottom_labels=True, top_color_hex=None, bottom_color_hex=\"#ffffff\", max_value=None, colorbar_label=\"Sample count\"):\n",
    "    if top_color_hex is None:\n",
    "        top_color_hex = BASE_COLOR\n",
    "\n",
    "    if max_value is None:\n",
    "        max_value = np.nanmax(table.values.flatten())\n",
    "\n",
    "    cmap = LinearSegmentedColormap.from_list(\"white_to_remission\", [bottom_color_hex, top_color_hex])\n",
    "    norm = Normalize(vmin=0, vmax=max_value)\n",
    "\n",
    "    render_grid(table, \n",
    "                title, \n",
    "                path, \n",
    "                show_bottom_labels=show_bottom_labels, \n",
    "                norm=norm, \n",
    "                cmap=cmap, \n",
    "                colorbar_label=colorbar_label)"
   ]
  },
  {
   "cell_type": "code",
   "execution_count": 14,
   "id": "47b056af",
   "metadata": {},
   "outputs": [],
   "source": [
    "def correct_fill_values(results_df, \n",
    "                        remission_df=None,\n",
    "                        active_df=None,\n",
    "                        rem_patient_thresh=None,\n",
    "                        active_patient_thresh=None):\n",
    "    \"\"\" \n",
    "    Correct the Nan's or Zeros in the results_df based on the remission_df and active_df.\n",
    "    For instance, if the results_df is the the num of signif genes from the disease severity analysis,\n",
    "    then any results_df should be nan if the remission_df or active_df has less than rem_patient_thresh or active_patient_thresh patients,\n",
    "    but if it meets both thresholds and the value is 0 or nan, then it should be 0. \"\"\"\n",
    "\n",
    "    # fill nan with 0\n",
    "    results_df = results_df.fillna(0)\n",
    "\n",
    "    if remission_df is not None:\n",
    "        if active_df is not None:\n",
    "            nan_mask = (remission_df < rem_patient_thresh) | (active_df < active_patient_thresh)\n",
    "        else:\n",
    "            nan_mask = (remission_df < rem_patient_thresh)\n",
    "        results_df[nan_mask] = pd.NA\n",
    "\n",
    "    else:\n",
    "        raise ValueError(\"remission_df is required\")\n",
    "    \n",
    "    return results_df"
   ]
  },
  {
   "cell_type": "code",
   "execution_count": 15,
   "id": "2888ea4f",
   "metadata": {},
   "outputs": [],
   "source": [
    "def complete_heatmap_workflow(table_path, title, save_path, show_bottom_labels=True, top_color_hex=None, bottom_color_hex=\"#ffffff\", max_value=None,  colorbar_label=\"Sample count\", use_plotting_drug_families=True, remission_path=None, active_path=None, rem_patient_thresh=None, active_patient_thresh=None):\n",
    "    table = pd.read_parquet(table_path)\n",
    "    table = table_universal_formatting(table, use_plotting_drug_families)\n",
    "\n",
    "    if remission_path is not None:\n",
    "        remission_df = pd.read_parquet(remission_path)\n",
    "        remission_df = table_universal_formatting(remission_df, use_plotting_drug_families)\n",
    "        if active_path is not None:\n",
    "            active_df = pd.read_parquet(active_path)\n",
    "            active_df = table_universal_formatting(active_df, use_plotting_drug_families)\n",
    "        else:\n",
    "            active_df = None\n",
    "        table = correct_fill_values(table, remission_df, active_df, rem_patient_thresh, active_patient_thresh)\n",
    "\n",
    "    easy_render_heatmap(table, title, save_path, show_bottom_labels, top_color_hex, bottom_color_hex, max_value, colorbar_label)"
   ]
  },
  {
   "cell_type": "markdown",
   "id": "855e5bf6",
   "metadata": {},
   "source": [
    "# Patient Sample Counts"
   ]
  },
  {
   "cell_type": "markdown",
   "id": "915a7600",
   "metadata": {},
   "source": [
    "### Active Patient Table"
   ]
  },
  {
   "cell_type": "code",
   "execution_count": 16,
   "id": "ea18272c",
   "metadata": {},
   "outputs": [],
   "source": [
    "complete_heatmap_workflow(table_path = ACTIVE_PATIENT_TABLE_PATH,\n",
    "                          title = \"Number of Active Patients\", \n",
    "                          save_path = os.path.join(counts_path, 'active_counts.png'),\n",
    "                          top_color_hex=ACTIVE_COLOR, \n",
    "                          colorbar_label=\"Number of Active Patients\")"
   ]
  },
  {
   "cell_type": "markdown",
   "id": "fb854dc1",
   "metadata": {},
   "source": [
    "### Remission Patient Table"
   ]
  },
  {
   "cell_type": "code",
   "execution_count": 17,
   "id": "7eab7232",
   "metadata": {},
   "outputs": [],
   "source": [
    "complete_heatmap_workflow(table_path = REMISSION_PATIENT_TABLE_PATH,\n",
    "                          title = \"Number of Remission Patients\", \n",
    "                          save_path = os.path.join(counts_path, 'remission_counts.png'),\n",
    "                          top_color_hex=REMISSION_COLOR,\n",
    "                          colorbar_label=\"Number of Remission Patients\")"
   ]
  },
  {
   "cell_type": "markdown",
   "id": "2d59a24d",
   "metadata": {},
   "source": [
    "# "
   ]
  },
  {
   "cell_type": "markdown",
   "id": "9889e2b6",
   "metadata": {},
   "source": [
    "# Med vs No Med Signifcant Gene Counts"
   ]
  },
  {
   "cell_type": "code",
   "execution_count": 18,
   "id": "4e6dabbb",
   "metadata": {},
   "outputs": [],
   "source": [
    "complete_heatmap_workflow(table_path = MED_VS_NO_MED_SIGNIF_TABLE_PATH,\n",
    "                          save_path = os.path.join(counts_path, 'med_vs_no_med_signif_counts.png'),\n",
    "                          title = \"Significant Transcripts/Proteins per Medication\\n(Remission - Med vs. No Med) \", \n",
    "                          top_color_hex=BASE_COLOR,\n",
    "                          remission_path=REMISSION_PATIENT_TABLE_PATH,\n",
    "                          active_path=None,\n",
    "                          rem_patient_thresh=MIN_PATIENTS_PER_DRUG_FAMILY,\n",
    "                          active_patient_thresh=None,\n",
    "                          colorbar_label=\"Number of Transcripts/Proteins\")"
   ]
  },
  {
   "cell_type": "markdown",
   "id": "c205266c",
   "metadata": {},
   "source": [
    "# Disease Severity Significant Gene Counts"
   ]
  },
  {
   "cell_type": "code",
   "execution_count": 19,
   "id": "7ed83764",
   "metadata": {},
   "outputs": [],
   "source": [
    "complete_heatmap_workflow(table_path = REM_VS_ACT_SIGNIF_TABLE_PATH,\n",
    "                          save_path = os.path.join(counts_path, 'rem_vs_act_signif_counts.png'),\n",
    "                          title = \"Significant Transcripts/Proteins per Disease Severity\\n (Active vs. Remission)\", \n",
    "                          top_color_hex=BASE_COLOR,\n",
    "                          remission_path=REMISSION_PATIENT_TABLE_PATH,\n",
    "                          active_path=ACTIVE_PATIENT_TABLE_PATH,\n",
    "                          rem_patient_thresh=MIN_PATIENTS_PER_SEVERITY_GROUP,\n",
    "                          active_patient_thresh=MIN_PATIENTS_PER_SEVERITY_GROUP,\n",
    "                          colorbar_label=\"Number of Transcripts/Proteins\")"
   ]
  },
  {
   "cell_type": "markdown",
   "id": "4c870689",
   "metadata": {},
   "source": [
    "# Response Gene Counts"
   ]
  },
  {
   "cell_type": "code",
   "execution_count": 20,
   "id": "33b5be28",
   "metadata": {},
   "outputs": [],
   "source": [
    "complete_heatmap_workflow(table_path = RESPONSE_TABLE_PATH,\n",
    "                          save_path = os.path.join(counts_path, 'response_signif_counts.png'),\n",
    "                          title = \"Number of Medication Response Biomarkers\", \n",
    "                          top_color_hex=BASE_COLOR,\n",
    "                          remission_path=REMISSION_PATIENT_TABLE_PATH,\n",
    "                          active_path=ACTIVE_PATIENT_TABLE_PATH,\n",
    "                          rem_patient_thresh=MIN_PATIENTS_PER_SEVERITY_GROUP,\n",
    "                          active_patient_thresh=MIN_PATIENTS_PER_SEVERITY_GROUP,\n",
    "                          colorbar_label=\"Number of Biomarkers\")"
   ]
  }
 ],
 "metadata": {
  "kernelspec": {
   "display_name": ".venv",
   "language": "python",
   "name": "python3"
  },
  "language_info": {
   "codemirror_mode": {
    "name": "ipython",
    "version": 3
   },
   "file_extension": ".py",
   "mimetype": "text/x-python",
   "name": "python",
   "nbconvert_exporter": "python",
   "pygments_lexer": "ipython3",
   "version": "3.10.18"
  }
 },
 "nbformat": 4,
 "nbformat_minor": 5
}
